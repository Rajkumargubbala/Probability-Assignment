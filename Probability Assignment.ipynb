{
 "cells": [
  {
   "cell_type": "markdown",
   "id": "a1f1a453",
   "metadata": {},
   "source": [
    "# 1. Define Experiment, Sample space, Outcome and Event."
   ]
  },
  {
   "cell_type": "markdown",
   "id": "aa549a50",
   "metadata": {},
   "source": [
    "### Ans:-\n",
    "\n",
    "### Experiment:\n",
    "* An experiment is a process or study that results in the collection of data. It is a procedure that is performed to test a hypothesis or to explore the behavior of a system.\n",
    "\n",
    "### Sample space:\n",
    "* The sample space of an experiment is the set of all possible outcomes of the experiment. It is a mathematical representation of the set of results that can occur.\n",
    "\n",
    "### Outcome:\n",
    "* An outcome is a result of an experiment. It is a specific result that can occur in the sample space.\n",
    "\n",
    "### Event:\n",
    "* An event is a subset of the sample space. It is a collection of outcomes that make up a specific occurrence. An event can be any combination of one or more outcomes from the sample space.\n"
   ]
  },
  {
   "cell_type": "markdown",
   "id": "ea6b56fa",
   "metadata": {},
   "source": []
  },
  {
   "cell_type": "markdown",
   "id": "73585a88",
   "metadata": {},
   "source": [
    "# 2. What is probability and explain different types of probability?"
   ]
  },
  {
   "cell_type": "markdown",
   "id": "c5943921",
   "metadata": {},
   "source": [
    "### Probability:\n",
    "* Probability is a measure of the likelihood of an event occurring. It is a number between the 0 and 1, with 0 meaning that an event is impossible and 1 meaning that an event is certain."
   ]
  },
  {
   "cell_type": "markdown",
   "id": "9694aef7",
   "metadata": {},
   "source": [
    "## There are four types of probability:\n",
    "\n",
    "  ### 1. Classical Probability:\n",
    "* Classical probability is based on the concept of equally likely outcomes. It assumes that all outcomes in the sample space are equally likely to occur. The classical probability of an event is calculated as the number of favourable outcomes divided by the total number of outcomes in the sample space.\n",
    "### 2. Empirical Probability:\n",
    "* Empirical probability is based on the concept of relative frequency. It is the ratio of the number of times an event occurs in a series of trials to thetotal number of trials. Empirical probability is often used in practice to estimate the likelihood of an event based on past data.\n",
    "### 3. Axiomatic Probability:\n",
    "* Axiomatic probability is a mathematical approach to defining the probability that is based on a set of axioms. It provides a foundation for the mathematical theory of probability and allows for the calculation of complex probabilities using mathematical tools.\n",
    "### 4. Subjective Probability: \n",
    "* Subjective probability is a type of probability that is based on personal opinions, beliefs, or information. It is a reflection of an individual's uncertainty or knowledge about a particular event and can vary from person to person."
   ]
  },
  {
   "cell_type": "code",
   "execution_count": null,
   "id": "7563ff82",
   "metadata": {},
   "outputs": [],
   "source": []
  },
  {
   "cell_type": "markdown",
   "id": "7b7b9bfd",
   "metadata": {},
   "source": [
    "# 3. In loan defaulters older people make up only 1.4%. Now the probability that someone defaults on a loan is 0.184, Find the probability of default on loan knowing that he is an old person. Older people make up only 0.8%\n"
   ]
  },
  {
   "cell_type": "markdown",
   "id": "be286578",
   "metadata": {},
   "source": [
    "### Ans: \n",
    "####  Let, older people= x\n",
    "####  Loan default= y\n",
    "####  So, P (x | y)= 1.4% = 0.014\n",
    "####  P(y) = 0.184\n",
    "####  P(x) = 0.08\n",
    "####  Using Bayes Theorem;\n",
    "####  P(y | x) = P(x | y) * P(y) / P(x)\n",
    "####  = 0.014*0.14/0.008\n",
    "####  = 0.322\n",
    "####  Therefore, P(Loan default | Older People) = 0.322"
   ]
  },
  {
   "cell_type": "code",
   "execution_count": null,
   "id": "8dad2d40",
   "metadata": {},
   "outputs": [],
   "source": []
  },
  {
   "cell_type": "markdown",
   "id": "d959a2b3",
   "metadata": {},
   "source": [
    "# 4. Define the Bayes theorem and write the formulae."
   ]
  },
  {
   "cell_type": "markdown",
   "id": "5058c24e",
   "metadata": {},
   "source": [
    "### Ans: \n",
    "* Bayes' Theorem is a mathematical formula used in probability theory to calculate the conditional probability of an event given the prior knowledge of certain conditions. It describes the relationship between the prior probability of an event and the posterior probability of that event, given the occurrence of another event.\n",
    "### The formula for Bayes' Theorem is:\n",
    "#### P(A|B) = P(B|A) * P(A) / P(B) "
   ]
  },
  {
   "cell_type": "code",
   "execution_count": null,
   "id": "ed7ba375",
   "metadata": {},
   "outputs": [],
   "source": []
  },
  {
   "cell_type": "markdown",
   "id": "a3ce23c2",
   "metadata": {},
   "source": [
    "# 5. Solve the below problem using Bayes theorem: \n",
    "# Spam Assassin works by having users train the system. It looks for patterns in the words in emails marked as spam by the user.\n",
    "# For example, it may have learned that the word “free” appears in 30% of the mails marked as spam, i.e., P(Free | Spam) = 0.30. Assuming 1% of non-spam mail includes the word “free” and 50% of all mails received by the user are spam, find the probability that a mail is spam if the word “free” appears in it."
   ]
  },
  {
   "cell_type": "markdown",
   "id": "cb5f8881",
   "metadata": {},
   "source": [
    "### Ans:\n",
    "#### Given:\n",
    "#### P(Free|spam) = 0.30\n",
    "#### P(Free|not spam) = 1.1 = 0.01\n",
    "#### P(spam) = 50% = 0.50\n",
    "#### P(not |spam) = 1 - P(spam) = 1 - 0.50 = 0.50\n",
    "#### P(Free) = P(Free|spam) * P(spam) + P(Free|not spam) * P(not spam)\n",
    "#### P(Free) = 0.30 * 0.50 + 0.01 * 0.50\n",
    "#### P(Free) = 0.165\n",
    "### From Bayes Theroem:\n",
    "#### P(Free|spam) =( P(Free|spam) * P(spam) ) / P(Free)\n",
    "#### P(Free|spam) = (0.30 * 0.50) / 0.165\n",
    "#### P(Free|spam) = 0.909"
   ]
  },
  {
   "cell_type": "code",
   "execution_count": null,
   "id": "696988f7",
   "metadata": {},
   "outputs": [],
   "source": []
  }
 ],
 "metadata": {
  "kernelspec": {
   "display_name": "Python 3 (ipykernel)",
   "language": "python",
   "name": "python3"
  },
  "language_info": {
   "codemirror_mode": {
    "name": "ipython",
    "version": 3
   },
   "file_extension": ".py",
   "mimetype": "text/x-python",
   "name": "python",
   "nbconvert_exporter": "python",
   "pygments_lexer": "ipython3",
   "version": "3.9.7"
  }
 },
 "nbformat": 4,
 "nbformat_minor": 5
}
